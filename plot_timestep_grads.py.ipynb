{
 "cells": [
  {
   "cell_type": "code",
   "execution_count": 1,
   "metadata": {},
   "outputs": [
    {
     "ename": "ModuleNotFoundError",
     "evalue": "No module named 'utils'",
     "output_type": "error",
     "traceback": [
      "\u001b[0;31m---------------------------------------------------------------------------\u001b[0m",
      "\u001b[0;31mModuleNotFoundError\u001b[0m                       Traceback (most recent call last)",
      "\u001b[0;32m<ipython-input-1-98fd51811da6>\u001b[0m in \u001b[0;36m<module>\u001b[0;34m\u001b[0m\n\u001b[1;32m      3\u001b[0m \u001b[0;32mimport\u001b[0m \u001b[0mnumpy\u001b[0m \u001b[0;32mas\u001b[0m \u001b[0mnp\u001b[0m\u001b[0;34m\u001b[0m\u001b[0;34m\u001b[0m\u001b[0m\n\u001b[1;32m      4\u001b[0m \u001b[0;32mimport\u001b[0m \u001b[0mos\u001b[0m\u001b[0;34m\u001b[0m\u001b[0;34m\u001b[0m\u001b[0m\n\u001b[0;32m----> 5\u001b[0;31m \u001b[0;32mimport\u001b[0m \u001b[0mutils\u001b[0m\u001b[0;34m\u001b[0m\u001b[0;34m\u001b[0m\u001b[0m\n\u001b[0m\u001b[1;32m      6\u001b[0m \u001b[0;32mfrom\u001b[0m \u001b[0msklearn\u001b[0m\u001b[0;34m.\u001b[0m\u001b[0mpreprocessing\u001b[0m \u001b[0;32mimport\u001b[0m \u001b[0mminmax_scale\u001b[0m\u001b[0;34m\u001b[0m\u001b[0;34m\u001b[0m\u001b[0m\n\u001b[1;32m      7\u001b[0m \u001b[0;34m\u001b[0m\u001b[0m\n",
      "\u001b[0;31mModuleNotFoundError\u001b[0m: No module named 'utils'"
     ]
    }
   ],
   "source": [
    "import argparse\n",
    "import matplotlib.pyplot as plt\n",
    "import numpy as np\n",
    "import os\n",
    "import utils\n",
    "from sklearn.preprocessing import minmax_scale\n",
    "\n",
    "parser = argparse.ArgumentParser(description='PyTorch Penn Treebank Language Modeling')\n",
    "\n",
    "parser.add_argument('--saved_models_dir', type=str,\n",
    "                    help='Directory with saved models \\\n",
    "                         (best_params.pt and exp_config.txt must be present there). \\\n",
    "                         All its\\' individual subdirectories will be iterated')\n",
    "\n",
    "saved_model_dir = \"\"\n",
    "plt.figure()#(figsize=(12, 12))\n",
    "dirs = [x[0] for x in os.walk(saved_model_dir) if x[0] != saved_model_dir and 'TRANSFORMER' not in x[0]]\n",
    "for dir_name in dirs:\n",
    "    args = utils.load_model_config(dir_name)\n",
    "    x_raw = np.load(os.path.join(dir_name, 'timestep_grads.npy'))\n",
    "    x = minmax_scale(x_raw)\n",
    "    plt.plot(x, marker='o', label=args['model'])\n",
    "    plt.title('{}'.format('Final time-step loss gradient wrt hidden states'))\n",
    "\n",
    "plt.xlabel(\"Hidden state (concatenated)\")\n",
    "plt.ylabel(\"Rescaled gradient norm\")\n",
    "plt.grid()\n",
    "plt.legend()\n",
    "for dir in dirs:\n",
    "    plt.savefig('{}/timestamp_grads_corrected.png'.format(dir))\n",
    "plt.show()"
   ]
  }
 ],
 "metadata": {
  "kernelspec": {
   "display_name": "pytorch_fastai",
   "language": "python",
   "name": "python3"
  },
  "language_info": {
   "codemirror_mode": {
    "name": "ipython",
    "version": 3
   },
   "file_extension": ".py",
   "mimetype": "text/x-python",
   "name": "python",
   "nbconvert_exporter": "python",
   "pygments_lexer": "ipython3",
   "version": "3.7.1"
  }
 },
 "nbformat": 4,
 "nbformat_minor": 2
}
